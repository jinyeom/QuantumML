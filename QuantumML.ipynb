{
 "cells": [
  {
   "cell_type": "markdown",
   "metadata": {},
   "source": [
    "# Quantum Machine Learning\n",
    "Jin Yeom (jin.yeom@hudl.com)\n",
    "\n",
    "## Contents\n",
    "- [Introduction to Quantum Computing](#Introduction-to-Quantum-Computing)"
   ]
  },
  {
   "cell_type": "markdown",
   "metadata": {},
   "source": [
    "## Introduction to Quantum Computing"
   ]
  },
  {
   "cell_type": "markdown",
   "metadata": {},
   "source": [
    "Let us consider coin flipping. With two possible outcomes, the probability of heads $p_0$ and that of tails $p_1$ sum up to $1$. This probability distribution can also be represented as a column stochastic vector $\\vec{p} = \\begin{bmatrix} p_0 \\\\ p_1 \\end{bmatrix}$, where $\\left\\lVert\\vec{p}\\right\\rVert_1 = 1$. In this case of classical probability theory, both $p_0$ and $p_1$ are constrained to be non-negative real number. Additionally, the **entropy** of a probability distribution measures its unpredictability; it is defined as $H = -\\sum_i{P_i \\log{P_i}}$."
   ]
  },
  {
   "cell_type": "markdown",
   "metadata": {},
   "source": [
    "A **quantum state**, on the other hand, is represented as $|\\psi\\rangle = \\begin{bmatrix} a_0 \\\\ a_1 \\end{bmatrix}$ (read *psi ket*), where $a_0$ and $a_1$ are complex numbers, and $\\left\\lVert|\\psi\\rangle\\right\\rVert_2 = 1$. This simplest possible quantum state with two possible outcomes is often refered to as a **qubit**."
   ]
  },
  {
   "cell_type": "markdown",
   "metadata": {},
   "source": [
    "Quantum **superposition** states that any two (or more) quantum states can be added together (\"superposed\") and the result will be another valid quantum state. Note that this is not the same as simply not knowing in which state a qubit is in; rather, superposition states that its state is a linear combination of the two possible states, and once its state is observed is when its state **collapses (wave function collapse)** to a single deterministic state. More formally, superposition is an expansion of a quantum state in a basis as following,\n",
    "\n",
    "$$\n",
    "|\\psi\\rangle = a_0\\begin{bmatrix} 1 \\\\ 0 \\end{bmatrix} + a_1\\begin{bmatrix} 0 \\\\ 1 \\end{bmatrix} \n",
    "             = a_0|0\\rangle + a_1|1\\rangle\n",
    "$$\n",
    "\n",
    "where $a_0$ and $a_1$ are coefficients of $|0\\rangle$ and $|1\\rangle$, or **probability amplitudes** (sometimes called *Born probability*). In comparison to coin flipping as mentioned earlier, where $p_0$ and $p_1$ directly represent the probabilities of heads or tails, the probability of either $0$ or $1$ is represented by $|a_0|^2$ or $|a_1|^2$. Accordingly, $|a_0|^2 + |a_1|^2 = 1$."
   ]
  },
  {
   "cell_type": "markdown",
   "metadata": {},
   "source": [
    "There are couple of operators for qubits that are not possible on classical computers. One is called **interference**."
   ]
  },
  {
   "cell_type": "markdown",
   "metadata": {},
   "source": []
  }
 ],
 "metadata": {
  "kernelspec": {
   "display_name": "Python 3",
   "language": "python",
   "name": "python3"
  },
  "language_info": {
   "codemirror_mode": {
    "name": "ipython",
    "version": 3
   },
   "file_extension": ".py",
   "mimetype": "text/x-python",
   "name": "python",
   "nbconvert_exporter": "python",
   "pygments_lexer": "ipython3",
   "version": "3.7.2"
  }
 },
 "nbformat": 4,
 "nbformat_minor": 2
}
